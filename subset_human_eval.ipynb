{
 "cells": [
  {
   "cell_type": "code",
   "execution_count": 1,
   "metadata": {},
   "outputs": [],
   "source": [
    "import pandas as pd\n",
    "import jsonlines\n",
    "import gzip\n",
    "import random\n",
    "\n",
    "# Create a subset of HumanEval for testing\n",
    "def create_subset(infile, outfile, subset_size=33):\n",
    "    # Load the data\n",
    "    with gzip.open(infile, 'rt', encoding='utf-8') as f:\n",
    "        data = [line for line in jsonlines.Reader(f)]\n",
    "\n",
    "    # Randomly select a subset of the data\n",
    "    random_subset = random.sample(data, subset_size)\n",
    "\n",
    "    # Save the subset to a new file\n",
    "    with gzip.open(outfile, 'wt', encoding='utf-8') as f:\n",
    "        writer = jsonlines.Writer(f)\n",
    "        for entry in random_subset:\n",
    "            writer.write(entry)"
   ]
  },
  {
   "cell_type": "code",
   "execution_count": 4,
   "metadata": {},
   "outputs": [],
   "source": [
    "# Extract test set from HumanEval (all problems not used for testing approaches)\n",
    "import jsonlines\n",
    "import gzip\n",
    "\n",
    "def create_diff_file(mainfile, comparefile, outfile):\n",
    "    # Load the data from main file\n",
    "    with gzip.open(mainfile, 'rt', encoding='utf-8') as f:\n",
    "        main_data = [line for line in jsonlines.Reader(f)]\n",
    "    \n",
    "    # Load the data from compare file\n",
    "    with gzip.open(comparefile, 'rt', encoding='utf-8') as f:\n",
    "        compare_data = [line for line in jsonlines.Reader(f)]\n",
    "\n",
    "    # Create a list containing only lines that are in main file and not in compare file\n",
    "    diff_data = [line for line in main_data if line not in compare_data]\n",
    "\n",
    "    # Save the diff_data to a new file\n",
    "    with gzip.open(outfile, 'wt', encoding='utf-8') as f:\n",
    "        writer = jsonlines.Writer(f)\n",
    "        for entry in diff_data:\n",
    "            writer.write(entry)"
   ]
  },
  {
   "cell_type": "code",
   "execution_count": 2,
   "metadata": {},
   "outputs": [],
   "source": [
    "create_subset('human-eval/data/old_HumanEval.jsonl.gz', 'human-eval/data/HumanEval.jsonl.gz', 10)"
   ]
  }
 ],
 "metadata": {
  "kernelspec": {
   "display_name": "Causality",
   "language": "python",
   "name": "python3"
  },
  "language_info": {
   "codemirror_mode": {
    "name": "ipython",
    "version": 3
   },
   "file_extension": ".py",
   "mimetype": "text/x-python",
   "name": "python",
   "nbconvert_exporter": "python",
   "pygments_lexer": "ipython3",
   "version": "3.9.14"
  },
  "orig_nbformat": 4
 },
 "nbformat": 4,
 "nbformat_minor": 2
}
